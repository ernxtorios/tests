{
 "cells": [
  {
   "cell_type": "code",
   "execution_count": 7,
   "id": "0345100a",
   "metadata": {},
   "outputs": [],
   "source": [
    "from faker import Faker\n",
    "from pyspark.sql import SparkSession, Row\n",
    "from pyspark.sql.types import StructType, StructField, StringType, IntegerType, DoubleType\n",
    "from pyspark.sql.functions import count, avg, sum, min, max, round"
   ]
  },
  {
   "cell_type": "code",
   "execution_count": 8,
   "id": "4b8aac83",
   "metadata": {},
   "outputs": [
    {
     "name": "stderr",
     "output_type": "stream",
     "text": [
      "Setting Spark log level to \"ERROR\".\n"
     ]
    }
   ],
   "source": [
    "fake = Faker(locale=\"es_MX\")\n",
    "\n",
    "schema = StructType([\n",
    "    StructField(\"nombre\", StringType(), True),\n",
    "    StructField(\"apellido\", StringType(), True),\n",
    "    StructField(\"genero\", StringType(), True),\n",
    "    StructField(\"edad\", IntegerType(), True),\n",
    "    StructField(\"distrito\", StringType(), True),\n",
    "    StructField(\"salario\", DoubleType(), True),\n",
    "    StructField(\"categoria\", StringType(), True)\n",
    "])\n",
    "\n",
    "spark = SparkSession.builder.appName(\"createDataFrameOverview4\").getOrCreate()"
   ]
  },
  {
   "cell_type": "code",
   "execution_count": 9,
   "id": "97949efa",
   "metadata": {},
   "outputs": [],
   "source": [
    "def crear_socios(numero_socios, genero_socio):\n",
    "    data = []\n",
    "    for _ in range(numero_socios):\n",
    "        if genero_socio == \"Masculino\":\n",
    "            data.append(\n",
    "                Row(\n",
    "                    nombre=fake.first_name_male(),\n",
    "                    apellido=fake.last_name(),\n",
    "                    genero=genero_socio,\n",
    "                    edad=fake.random_int(min=18, max=99, step=1),\n",
    "                    distrito=fake.random_element(elements=(\"Moyobamba\", \"Calzada\", \"Habana\", \"Jepelacio\", \"Soritor\", \"Yantalo\")),\n",
    "                    salario=fake.random_int(min=600, max=9000, step=1)*1.0,\n",
    "                    categoria=fake.random_element(elements=(\"Rojo\", \"Azul\", \"Amarillo\", \"Verde\"))\n",
    "                )\n",
    "            )\n",
    "        elif genero_socio == \"Femenino\":\n",
    "            data.append(\n",
    "                Row(\n",
    "                    nombre=fake.first_name_female(),\n",
    "                    apellido=fake.last_name(),\n",
    "                    genero=genero_socio,\n",
    "                    edad=fake.random_int(min=18, max=99, step=1),\n",
    "                    distrito=fake.random_element(elements=(\"Moyobamba\", \"Calzada\", \"Habana\", \"Jepelacio\", \"Soritor\", \"Yantalo\")),\n",
    "                    salario=fake.random_int(min=600, max=9000, step=1)*1.0,\n",
    "                    categoria=fake.random_element(elements=(\"Rojo\", \"Azul\", \"Amarillo\", \"Verde\"))\n",
    "                )\n",
    "            )\n",
    "    \n",
    "    return data"
   ]
  },
  {
   "cell_type": "code",
   "execution_count": 10,
   "id": "f8dc51bd",
   "metadata": {},
   "outputs": [
    {
     "name": "stdout",
     "output_type": "stream",
     "text": [
      "+--------+---------+---------+----+---------+-------+---------+\n",
      "|  nombre| apellido|   genero|edad| distrito|salario|categoria|\n",
      "+--------+---------+---------+----+---------+-------+---------+\n",
      "|   Paola|Feliciano|Masculino|  35|Jepelacio| 6517.0|    Verde|\n",
      "|   Juana|  Casares|Masculino|  48|Moyobamba| 8268.0|     Azul|\n",
      "|   Tomás|  Borrego|Masculino|  34|  Soritor| 8003.0| Amarillo|\n",
      "|Fernando|    Marín|Masculino|  19|Moyobamba| 3263.0|     Azul|\n",
      "|  Samuel|   Valles|Masculino|  49|  Calzada| 6771.0|     Rojo|\n",
      "| Vicente|  Apodaca|Masculino|  56|  Yantalo| 6986.0|    Verde|\n",
      "|  Felipe|   Tirado|Masculino|  40|Jepelacio|  654.0| Amarillo|\n",
      "| Lorenzo|   Orozco|Masculino|  62|  Calzada| 2266.0| Amarillo|\n",
      "|  Genaro|    Tamez|Masculino|  37|  Yantalo| 2673.0|     Azul|\n",
      "| Alberto|  Alvarez|Masculino|  61|Moyobamba| 1119.0|     Azul|\n",
      "|   Felix|  Saucedo|Masculino|  97|Moyobamba| 6455.0|     Azul|\n",
      "|    José|    Matos|Masculino|  36|Jepelacio| 1817.0|     Rojo|\n",
      "|  Olivia| Esquivel|Masculino|  42|Moyobamba| 1047.0| Amarillo|\n",
      "|   César|  Verdugo|Masculino|  43|Moyobamba| 3275.0|    Verde|\n",
      "|    Hugo|    Casas|Masculino|  83|   Habana| 3123.0|     Rojo|\n",
      "|  Helena|    Parra|Masculino|  69|  Calzada| 6305.0|     Rojo|\n",
      "|     Jos|  Treviño|Masculino|  34|   Habana| 3165.0| Amarillo|\n",
      "| Roberto|  Nevárez|Masculino|  39|  Yantalo| 6891.0| Amarillo|\n",
      "|   David|    Rocha|Masculino|  97|Jepelacio| 8614.0|     Rojo|\n",
      "| Enrique|  Estévez|Masculino|  63|  Soritor| 2185.0|     Rojo|\n",
      "+--------+---------+---------+----+---------+-------+---------+\n",
      "only showing top 20 rows\n",
      "\n"
     ]
    },
    {
     "name": "stderr",
     "output_type": "stream",
     "text": [
      "                                                                                "
     ]
    }
   ],
   "source": [
    "df_socios_hombres = spark.createDataFrame(crear_socios(250, \"Masculino\"), schema)\n",
    "df_socios_mujeres = spark.createDataFrame(crear_socios(100, \"Femenino\"), schema)\n",
    "\n",
    "df_socios = df_socios_hombres.union(df_socios_mujeres)\n",
    "\n",
    "df_socios.show()"
   ]
  },
  {
   "cell_type": "code",
   "execution_count": 11,
   "id": "aef481f5",
   "metadata": {},
   "outputs": [
    {
     "name": "stdout",
     "output_type": "stream",
     "text": [
      "+---------+--------+-------------+-------------+----------------+-----------+-----------+\n",
      "| distrito|cantidad|promedio_edad|total_salario|promedio_salario|min_salario|max_salario|\n",
      "+---------+--------+-------------+-------------+----------------+-----------+-----------+\n",
      "|  Calzada|      61|        60.16|     304435.0|         4990.74|      619.0|     8771.0|\n",
      "|   Habana|      55|        56.91|     239480.0|         4354.18|      724.0|     8584.0|\n",
      "|  Yantalo|      62|         53.9|     305924.0|         4934.26|      752.0|     8926.0|\n",
      "|  Soritor|      61|        62.13|     261255.0|         4282.87|      619.0|     8956.0|\n",
      "|Jepelacio|      48|         56.9|     241158.0|         5024.13|      654.0|     8986.0|\n",
      "|Moyobamba|      63|        55.22|     305208.0|         4844.57|      930.0|     8990.0|\n",
      "+---------+--------+-------------+-------------+----------------+-----------+-----------+\n",
      "\n"
     ]
    }
   ],
   "source": [
    "df_socios.groupBy(\"distrito\") \\\n",
    ".agg(count(\"distrito\").alias(\"cantidad\"), \n",
    "     round(avg(\"edad\"), 2).alias(\"promedio_edad\"),\n",
    "     round(sum(\"salario\"), 2).alias(\"total_salario\"),\n",
    "     round(avg(\"salario\"), 2).alias(\"promedio_salario\"),\n",
    "     min(\"salario\").alias(\"min_salario\"),\n",
    "     max(\"salario\").alias(\"max_salario\")).show() "
   ]
  },
  {
   "cell_type": "code",
   "execution_count": 12,
   "id": "4085c7a0",
   "metadata": {},
   "outputs": [],
   "source": [
    "spark.stop()"
   ]
  }
 ],
 "metadata": {
  "kernelspec": {
   "display_name": "Python 3 (ipykernel)",
   "language": "python",
   "name": "python3"
  },
  "language_info": {
   "codemirror_mode": {
    "name": "ipython",
    "version": 3
   },
   "file_extension": ".py",
   "mimetype": "text/x-python",
   "name": "python",
   "nbconvert_exporter": "python",
   "pygments_lexer": "ipython3",
   "version": "3.13.5"
  }
 },
 "nbformat": 4,
 "nbformat_minor": 5
}
