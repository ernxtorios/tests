{
 "cells": [
  {
   "cell_type": "markdown",
   "id": "6c35f851",
   "metadata": {},
   "source": [
    "# Generar datos falsos en Python con Faker"
   ]
  },
  {
   "cell_type": "code",
   "execution_count": 1,
   "id": "7f206759",
   "metadata": {},
   "outputs": [],
   "source": [
    "from faker import Faker\n",
    "from datetime import datetime"
   ]
  },
  {
   "cell_type": "code",
   "execution_count": 2,
   "id": "0df1dd92",
   "metadata": {},
   "outputs": [
    {
     "data": {
      "text/plain": [
       "['en_US', 'ja_JP']"
      ]
     },
     "execution_count": 2,
     "metadata": {},
     "output_type": "execute_result"
    }
   ],
   "source": [
    "locale_list = [\"en-US\", \"ja-JP\", \"en_US\"]\n",
    "\n",
    "fake = Faker(locale_list)\n",
    "\n",
    "fake.locales"
   ]
  },
  {
   "cell_type": "code",
   "execution_count": 3,
   "id": "ca48699f",
   "metadata": {
    "scrolled": true
   },
   "outputs": [
    {
     "name": "stdout",
     "output_type": "stream",
     "text": [
      "Fake Birthdate: 1994-12-03\n"
     ]
    }
   ],
   "source": [
    "print(\"Fake Birthdate:\", fake.date_of_birth())"
   ]
  },
  {
   "cell_type": "code",
   "execution_count": 4,
   "id": "c93dcd72",
   "metadata": {},
   "outputs": [
    {
     "name": "stdout",
     "output_type": "stream",
     "text": [
      "Formatted Event Date: 2025-08-24 06:55:10\n"
     ]
    }
   ],
   "source": [
    "fake_event_date = fake.date_time_this_year().strftime('%Y-%m-%d %H:%M:%S')\n",
    "print(\"Formatted Event Date:\", fake_event_date)"
   ]
  },
  {
   "cell_type": "code",
   "execution_count": 5,
   "id": "626327d0",
   "metadata": {},
   "outputs": [
    {
     "name": "stdout",
     "output_type": "stream",
     "text": [
      "Custom Date: 2004-05-11 06:36:51.215668\n"
     ]
    }
   ],
   "source": [
    "start_date = datetime(2000, 1, 1)\n",
    "end_date = datetime(2023, 12, 31)\n",
    "\n",
    "fake_custom_date = fake.date_time_between_dates(datetime_start=start_date, datetime_end=end_date)\n",
    "print(\"Custom Date:\", fake_custom_date)"
   ]
  },
  {
   "cell_type": "code",
   "execution_count": 6,
   "id": "e15f16fb",
   "metadata": {},
   "outputs": [
    {
     "name": "stdout",
     "output_type": "stream",
     "text": [
      "Date with Timezone: 0991-01-29 01:27:58.209293\n"
     ]
    }
   ],
   "source": [
    "fake_date_with_timezone = fake.date_time_ad()\n",
    "print(\"Date with Timezone:\", fake_date_with_timezone)"
   ]
  },
  {
   "cell_type": "code",
   "execution_count": null,
   "id": "56233381",
   "metadata": {},
   "outputs": [],
   "source": []
  }
 ],
 "metadata": {
  "kernelspec": {
   "display_name": "Python 3 (ipykernel)",
   "language": "python",
   "name": "python3"
  },
  "language_info": {
   "codemirror_mode": {
    "name": "ipython",
    "version": 3
   },
   "file_extension": ".py",
   "mimetype": "text/x-python",
   "name": "python",
   "nbconvert_exporter": "python",
   "pygments_lexer": "ipython3",
   "version": "3.13.5"
  }
 },
 "nbformat": 4,
 "nbformat_minor": 5
}
