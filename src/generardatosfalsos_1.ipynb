{
 "cells": [
  {
   "cell_type": "markdown",
   "id": "6c35f851",
   "metadata": {},
   "source": [
    "# Generar datos falsos en Python con Faker"
   ]
  },
  {
   "cell_type": "code",
   "execution_count": 1,
   "id": "f7cce4ea",
   "metadata": {},
   "outputs": [
    {
     "name": "stdout",
     "output_type": "stream",
     "text": [
      "Defaulting to user installation because normal site-packages is not writeable\n",
      "Requirement already satisfied: Faker in /home/ernestosegundo/.local/lib/python3.13/site-packages (37.8.0)\n",
      "Requirement already satisfied: tzdata in /opt/anaconda3/lib/python3.13/site-packages (from Faker) (2025.2)\n"
     ]
    }
   ],
   "source": [
    "%%bash\n",
    "pip install Faker"
   ]
  },
  {
   "cell_type": "code",
   "execution_count": 2,
   "id": "7f206759",
   "metadata": {},
   "outputs": [],
   "source": [
    "from faker import Faker\n",
    "import csv"
   ]
  },
  {
   "cell_type": "code",
   "execution_count": 3,
   "id": "0df1dd92",
   "metadata": {},
   "outputs": [
    {
     "name": "stdout",
     "output_type": "stream",
     "text": [
      "Fake data saved to ../data/fake_data.csv\n"
     ]
    }
   ],
   "source": [
    "fake = Faker()\n",
    "\n",
    "num_records = 100\n",
    "data = []\n",
    "for _ in range(num_records):\n",
    "    data.append({\n",
    "        'name': fake.name(),\n",
    "        'email': fake.email(),\n",
    "        'zipcode': fake.zipcode(),\n",
    "        'job': fake.job()\n",
    "    })\n",
    "    \n",
    "csv_file = '../data/fake_data.csv'\n",
    "fieldnames = ['name', 'email', 'zipcode', 'job']\n",
    "\n",
    "with open(csv_file, 'w', newline='', encoding='utf-8') as file:\n",
    "    writer = csv.DictWriter(file, fieldnames=fieldnames)\n",
    "    writer.writeheader()\n",
    "    writer.writerows(data)\n",
    "\n",
    "print(f\"Fake data saved to {csv_file}\")"
   ]
  },
  {
   "cell_type": "code",
   "execution_count": null,
   "id": "ca48699f",
   "metadata": {},
   "outputs": [],
   "source": []
  }
 ],
 "metadata": {
  "kernelspec": {
   "display_name": "Python 3 (ipykernel)",
   "language": "python",
   "name": "python3"
  },
  "language_info": {
   "codemirror_mode": {
    "name": "ipython",
    "version": 3
   },
   "file_extension": ".py",
   "mimetype": "text/x-python",
   "name": "python",
   "nbconvert_exporter": "python",
   "pygments_lexer": "ipython3",
   "version": "3.13.5"
  }
 },
 "nbformat": 4,
 "nbformat_minor": 5
}
