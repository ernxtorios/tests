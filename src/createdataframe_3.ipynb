{
 "cells": [
  {
   "cell_type": "markdown",
   "id": "1c8d5470",
   "metadata": {},
   "source": [
    "# Dataframe"
   ]
  },
  {
   "cell_type": "code",
   "execution_count": 12,
   "id": "fbc2c3f0",
   "metadata": {},
   "outputs": [],
   "source": [
    "from pyspark.sql import SparkSession, Row\n",
    "from faker import Faker"
   ]
  },
  {
   "cell_type": "code",
   "execution_count": 13,
   "id": "97fd189d",
   "metadata": {},
   "outputs": [],
   "source": [
    "spark = SparkSession.builder.appName(\"createDataFrameOverview3\").getOrCreate()"
   ]
  },
  {
   "cell_type": "code",
   "execution_count": 14,
   "id": "a328b73d",
   "metadata": {},
   "outputs": [],
   "source": [
    "fake = Faker(locale=\"es_MX\")\n",
    "\n",
    "def create_employees(num_employees):\n",
    "    employee_list = []\n",
    "    \n",
    "    for _ in range(1, num_employees):\n",
    "        employee = {}\n",
    "        employee[\"first_name\"] = fake.first_name()\n",
    "        employee[\"last_name\"] = fake.last_name()\n",
    "        employee[\"job\"] = fake.job()\n",
    "        employee[\"department\"] = fake.random_element(elements=(\"IT\", \"HR\", \"Marketing\", \"Finance\"))\n",
    "        employee[\"role\"] = fake.random_element(elements=(\"Manager\", \"Developer\", \"Analyst\", \"Associate\"))\n",
    "        employee[\"salary\"] = fake.random_int(min=30000, max=150000, step=1000)\n",
    "        employee[\"email\"] = fake.email()\n",
    "        employee_list.append(employee)\n",
    "    \n",
    "    return spark.createDataFrame(employee_list)"
   ]
  },
  {
   "cell_type": "code",
   "execution_count": 15,
   "id": "ec4b3485",
   "metadata": {},
   "outputs": [],
   "source": [
    "df = create_employees(50)"
   ]
  },
  {
   "cell_type": "code",
   "execution_count": 16,
   "id": "35e0da4d",
   "metadata": {},
   "outputs": [
    {
     "name": "stdout",
     "output_type": "stream",
     "text": [
      "+----------+---------------------------------+-----------+-------------------------------------------------------------------+----------+---------+------+\n",
      "|department|email                            |first_name |job                                                                |last_name |role     |salary|\n",
      "+----------+---------------------------------+-----------+-------------------------------------------------------------------+----------+---------+------+\n",
      "|HR        |barbaraporras@example.com        |Ángela     |Bibliotecarios                                                     |Niño      |Manager  |114000|\n",
      "|IT        |ksepulveda@example.com           |Guillermo  |Cazador                                                            |Reyna     |Associate|36000 |\n",
      "|IT        |roybalrenato@example.org         |Inés       |Director de publicidad y relaciones públicas                       |Colón     |Developer|120000|\n",
      "|IT        |francisco-javier76@example.net   |Mayte      |Controlador de instalaciones de procesamiento de productos químicos|Mata      |Manager  |49000 |\n",
      "|Marketing |fmerino@example.com              |Carolina   |Músico                                                             |Pacheco   |Manager  |83000 |\n",
      "|HR        |eloyvalentin@example.com         |Elias      |Empleado de servicios de apoyo a la producción                     |Rivera    |Developer|122000|\n",
      "|Marketing |julio-cesargarza@example.org     |María Luisa|Oficial de préstamos y créditos                                    |Serrano   |Developer|83000 |\n",
      "|Finance   |gilberto51@example.net           |Jos        |Director de servicios de cuidado de las personas de edad           |Cotto     |Manager  |107000|\n",
      "|IT        |jorge-luisbernal@example.net     |Alonso     |Director financiero                                                |Ontiveros |Associate|56000 |\n",
      "|IT        |villasenorjaime@example.com      |Gustavo    |Orfebre                                                            |Mena      |Associate|86000 |\n",
      "|Marketing |susana88@example.net             |Dulce      |Patronista y cortador de tela                                      |Báez      |Developer|103000|\n",
      "|Finance   |pabonvicente@example.net         |Gabriela   |Bibliotecarios                                                     |Leyva     |Analyst  |93000 |\n",
      "|Marketing |lcisneros@example.net            |Carmen     |Profesional de medicina alternativa                                |Corrales  |Analyst  |47000 |\n",
      "|Finance   |rene95@example.com               |Héctor     |Escritor                                                           |Batista   |Manager  |93000 |\n",
      "|Marketing |guevaraeugenio@example.com       |Conchita   |Orfebre                                                            |Ulibarri  |Associate|39000 |\n",
      "|Marketing |leticia06@example.com            |María José |Agente de servicios de seguridad social                            |de Jesús  |Developer|30000 |\n",
      "|Finance   |bernalnatividad@example.net      |Martha     |Profesional de relaciones públicas                                 |Negrón    |Associate|69000 |\n",
      "|Finance   |esquivelmaria-eugenia@example.net|Rolando    |Profesional religioso                                              |Almonte   |Manager  |109000|\n",
      "|Finance   |marianamiramontes@example.net    |Gonzalo    |Técnico en documentación sanitaria                                 |Aparicio  |Associate|105000|\n",
      "|HR        |luisnazario@example.com          |Rebeca     |Mecánico y reparador en electrónica                                |Villalobos|Associate|82000 |\n",
      "+----------+---------------------------------+-----------+-------------------------------------------------------------------+----------+---------+------+\n",
      "only showing top 20 rows\n",
      "\n"
     ]
    }
   ],
   "source": [
    "df.show(truncate=False)"
   ]
  },
  {
   "cell_type": "code",
   "execution_count": 17,
   "id": "84c764cb",
   "metadata": {},
   "outputs": [
    {
     "data": {
      "text/plain": [
       "StructType([StructField('department', StringType(), True), StructField('email', StringType(), True), StructField('first_name', StringType(), True), StructField('job', StringType(), True), StructField('last_name', StringType(), True), StructField('role', StringType(), True), StructField('salary', LongType(), True)])"
      ]
     },
     "execution_count": 17,
     "metadata": {},
     "output_type": "execute_result"
    }
   ],
   "source": [
    "df.schema"
   ]
  },
  {
   "cell_type": "code",
   "execution_count": 18,
   "id": "741732f6",
   "metadata": {},
   "outputs": [
    {
     "name": "stdout",
     "output_type": "stream",
     "text": [
      "root\n",
      " |-- department: string (nullable = true)\n",
      " |-- email: string (nullable = true)\n",
      " |-- first_name: string (nullable = true)\n",
      " |-- job: string (nullable = true)\n",
      " |-- last_name: string (nullable = true)\n",
      " |-- role: string (nullable = true)\n",
      " |-- salary: long (nullable = true)\n",
      "\n"
     ]
    }
   ],
   "source": [
    "df.printSchema()"
   ]
  },
  {
   "cell_type": "code",
   "execution_count": 19,
   "id": "5baf2776",
   "metadata": {},
   "outputs": [
    {
     "name": "stdout",
     "output_type": "stream",
     "text": [
      "+--------------+-----------+--------------------------------------------------------+----------+-------------+------+------------------------------+\n",
      "|first_name    |last_name  |job                                                     |department|role         |salary|email                         |\n",
      "+--------------+-----------+--------------------------------------------------------+----------+-------------+------+------------------------------+\n",
      "|María         |Rodrígez   |Reponedor de estanterías                                |Marketing |Analista     |96000 |daviles@example.net           |\n",
      "|María Cristina|Marrero    |Técnico en redes y sistemas de computadores             |Marketing |Administrador|125000|zcavazos@example.org          |\n",
      "|Joaquín       |de la Garza|Empleado encargado de las nóminas                       |TI        |Programador  |40000 |jaquelineescobedo@example.net |\n",
      "|Rosa          |Casares    |Técnico en ingeniería mecánica                          |Marketing |Programador  |128000|vmascarenas@example.com       |\n",
      "|Jonás         |Cazares    |Guía de turismo                                         |Marketing |Analista     |115000|ramiropaez@example.org        |\n",
      "|Patricia      |Burgos     |Agente inmobiliario                                     |HHRR      |Analista     |127000|duartejaime@example.org       |\n",
      "|Gregorio      |Laureano   |Operador de máquinas para fabricar productos de papel   |Finanzas  |Administrador|122000|modestomuro@example.net       |\n",
      "|Citlali       |Collazo    |Receptor de apuestas                                    |TI        |Administrador|84000 |lucia62@example.net           |\n",
      "|Alta  Gracia  |Castro     |Albañil                                                 |TI        |Programador  |137000|nevarezaurora@example.org     |\n",
      "|Jacobo        |Ulloa      |Profesional de la salud y la higiene laboral y ambiental|TI        |Administrador|101000|aldonza45@example.net         |\n",
      "|Perla         |Romo       |Filósofo                                                |TI        |Asociado     |59000 |cortesoswaldo@example.org     |\n",
      "|Federico      |Rascón     |Buzo                                                    |Finanzas  |Programador  |95000 |ppina@example.org             |\n",
      "|Rubén         |Venegas    |Peón de pesca y acuicultura                             |HHRR      |Administrador|32000 |arcelia62@example.com         |\n",
      "|Luz           |Toro       |Regulador y operador de máquinas y herramientas         |Finanzas  |Programador  |128000|elisa00@example.net           |\n",
      "|Leonel        |Peres      |Herrero                                                 |Marketing |Programador  |57000 |yaparicio@example.com         |\n",
      "|Sessa         |Guardado   |Empleado de centro de llamadas                          |Marketing |Asociado     |106000|josefina54@example.net        |\n",
      "|Gloria        |Valdivia   |Asistente farmacéutico                                  |HHRR      |Analista     |131000|montenegroveronica@example.com|\n",
      "|Julia         |Espinosa   |Panaderos, pasteleros y confiteros                      |TI        |Programador  |142000|angelagamboa@example.org      |\n",
      "|Conchita      |Muñiz      |Moldeador y machero                                     |Marketing |Programador  |60000 |cynthiatafoya@example.net     |\n",
      "|Maximiliano   |Tejada     |Director de producción agropecuaria y silvicultura      |Finanzas  |Administrador|40000 |luis-manuelgriego@example.org |\n",
      "+--------------+-----------+--------------------------------------------------------+----------+-------------+------+------------------------------+\n",
      "only showing top 20 rows\n",
      "\n"
     ]
    }
   ],
   "source": [
    "def create_employees_1(num_employees):\n",
    "    Employee = Row(\"first_name\", \"last_name\", \"job\", \"department\", \"role\", \"salary\", \"email\")\n",
    "\n",
    "    data = []\n",
    "    for _ in range(num_employees):\n",
    "        data.append(\n",
    "            Employee(\n",
    "                fake.first_name(),\n",
    "                fake.last_name(),\n",
    "                fake.job(),\n",
    "                fake.random_element(elements=(\"TI\", \"HHRR\", \"Marketing\", \"Finanzas\")),\n",
    "                fake.random_element(elements=(\"Administrador\", \"Programador\", \"Analista\", \"Asociado\")),\n",
    "                fake.random_int(min=30000, max=150000, step=1000),\n",
    "                fake.email()\n",
    "            )\n",
    "        )\n",
    "    \n",
    "    return data\n",
    "\n",
    "df_employees_1 = spark.createDataFrame(create_employees_1(30))\n",
    "\n",
    "df_employees_1.show(truncate=False)"
   ]
  },
  {
   "cell_type": "code",
   "execution_count": 20,
   "id": "1da846cc",
   "metadata": {},
   "outputs": [
    {
     "data": {
      "text/plain": [
       "StructType([StructField('first_name', StringType(), True), StructField('last_name', StringType(), True), StructField('job', StringType(), True), StructField('department', StringType(), True), StructField('role', StringType(), True), StructField('salary', LongType(), True), StructField('email', StringType(), True)])"
      ]
     },
     "execution_count": 20,
     "metadata": {},
     "output_type": "execute_result"
    }
   ],
   "source": [
    "df_employees_1.schema"
   ]
  },
  {
   "cell_type": "code",
   "execution_count": 21,
   "id": "74d5aabd",
   "metadata": {},
   "outputs": [
    {
     "name": "stdout",
     "output_type": "stream",
     "text": [
      "root\n",
      " |-- first_name: string (nullable = true)\n",
      " |-- last_name: string (nullable = true)\n",
      " |-- job: string (nullable = true)\n",
      " |-- department: string (nullable = true)\n",
      " |-- role: string (nullable = true)\n",
      " |-- salary: long (nullable = true)\n",
      " |-- email: string (nullable = true)\n",
      "\n"
     ]
    }
   ],
   "source": [
    "df_employees_1.printSchema()"
   ]
  }
 ],
 "metadata": {
  "kernelspec": {
   "display_name": "Python 3 (ipykernel)",
   "language": "python",
   "name": "python3"
  },
  "language_info": {
   "codemirror_mode": {
    "name": "ipython",
    "version": 3
   },
   "file_extension": ".py",
   "mimetype": "text/x-python",
   "name": "python",
   "nbconvert_exporter": "python",
   "pygments_lexer": "ipython3",
   "version": "3.13.5"
  }
 },
 "nbformat": 4,
 "nbformat_minor": 5
}
